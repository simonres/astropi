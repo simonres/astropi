{
 "metadata": {
  "name": "AstroPi"
 },
 "nbformat": 3,
 "nbformat_minor": 0,
 "worksheets": [
  {
   "cells": [
    {
     "cell_type": "heading",
     "level": 1,
     "metadata": {},
     "source": [
      "My Astro Pi programs"
     ]
    },
    {
     "cell_type": "code",
     "collapsed": false,
     "input": [
      "print('hola mundo')"
     ],
     "language": "python",
     "metadata": {},
     "outputs": [
      {
       "output_type": "stream",
       "stream": "stdout",
       "text": [
        "hola mundo\n"
       ]
      }
     ],
     "prompt_number": 1
    },
    {
     "cell_type": "code",
     "collapsed": false,
     "input": [
      "%%bash\n",
      "#git config --global user.email \"restrepo.simon@gmail.com\"\n",
      "#git config --global user.name \"Simon Restrepo\"\n",
      "#git add AstroPi.ipynb\n",
      "git commit -a -m \"My changes\"\n",
      "git push origin master"
     ],
     "language": "python",
     "metadata": {},
     "outputs": [
      {
       "output_type": "stream",
       "stream": "stdout",
       "text": [
        "# On branch master\n",
        "nothing to commit (working directory clean)\n"
       ]
      },
      {
       "output_type": "stream",
       "stream": "stderr",
       "text": [
        "Everything up-to-date\n"
       ]
      }
     ],
     "prompt_number": 6
    },
    {
     "cell_type": "code",
     "collapsed": false,
     "input": [],
     "language": "python",
     "metadata": {},
     "outputs": []
    }
   ],
   "metadata": {}
  }
 ]
}