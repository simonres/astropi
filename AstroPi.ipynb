{
 "metadata": {
  "name": "AstroPi"
 },
 "nbformat": 3,
 "nbformat_minor": 0,
 "worksheets": [
  {
   "cells": [
    {
     "cell_type": "heading",
     "level": 1,
     "metadata": {},
     "source": [
      "My Astro Pi programs"
     ]
    },
    {
     "cell_type": "markdown",
     "metadata": {},
     "source": [
      "Uncomment the comments after %%bash magic to execute"
     ]
    },
    {
     "cell_type": "heading",
     "level": 2,
     "metadata": {},
     "source": [
      "Install Ipython in raspbian wheezy"
     ]
    },
    {
     "cell_type": "code",
     "collapsed": false,
     "input": [
      "%%bash\n",
      "#sudo aptitude install ipython-notebook"
     ],
     "language": "python",
     "metadata": {},
     "outputs": [],
     "prompt_number": 3
    },
    {
     "cell_type": "heading",
     "level": 2,
     "metadata": {},
     "source": [
      "Install Astro Pi"
     ]
    },
    {
     "cell_type": "markdown",
     "metadata": {},
     "source": [
      "See https://www.raspberrypi.org/learning/astro-pi-guide for further info. WARNING: take a long time...\n",
      "\n",
      "Exec the following command from the console:\n",
      "\n",
      "`wget -O - http://www.raspberrypi.org/files/astro-pi/astro-pi-install.sh --no-check-certificate | bash`"
     ]
    },
    {
     "cell_type": "heading",
     "level": 1,
     "metadata": {},
     "source": [
      "Program to write message"
     ]
    },
    {
     "cell_type": "code",
     "collapsed": false,
     "input": [
      "from astro_pi import AstroPi\n",
      "ap = AstroPi()\n",
      "ap.show_message(\"Hello my name is Tim Peake\", text_colour=(255, 255, 0), back_colour=(0, 0, 255))"
     ],
     "language": "python",
     "metadata": {},
     "outputs": [],
     "prompt_number": 4
    },
    {
     "cell_type": "markdown",
     "metadata": {},
     "source": [
      "Repeat the message 3 times"
     ]
    },
    {
     "cell_type": "code",
     "collapsed": false,
     "input": [
      "from astro_pi import AstroPi\n",
      "ap = AstroPi()\n",
      "for i in range(3):\n",
      "    ap.show_message(\"38\", text_colour=(255, 255, 0), back_colour=(0, 0, 255))"
     ],
     "language": "python",
     "metadata": {},
     "outputs": [],
     "prompt_number": 7
    },
    {
     "cell_type": "markdown",
     "metadata": {},
     "source": [
      "temperature"
     ]
    },
    {
     "cell_type": "code",
     "collapsed": false,
     "input": [
      "from astro_pi import AstroPi\n",
      "ap = AstroPi()\n",
      "temp = ap.get_temperature()\n",
      "print(temp)"
     ],
     "language": "python",
     "metadata": {},
     "outputs": []
    },
    {
     "cell_type": "code",
     "collapsed": false,
     "input": [
      "%%bash\n",
      "#git config --global user.email \"restrepo.simon@gmail.com\"\n",
      "#git config --global user.name \"Simon Restrepo\"\n",
      "#git add AstroPi.ipynb\n",
      "git commit -a -m \"My changes\"\n",
      "git push origin master"
     ],
     "language": "python",
     "metadata": {},
     "outputs": [
      {
       "output_type": "stream",
       "stream": "stdout",
       "text": [
        "[master 9343e9e] My changes\n",
        " 1 file changed, 48 insertions(+), 1 deletion(-)\n"
       ]
      },
      {
       "output_type": "stream",
       "stream": "stderr",
       "text": [
        "To git@github.com:simonres/astropi.git\n",
        "   8b6e1ae..9343e9e  master -> master\n"
       ]
      }
     ],
     "prompt_number": 5
    },
    {
     "cell_type": "code",
     "collapsed": false,
     "input": [],
     "language": "python",
     "metadata": {},
     "outputs": []
    }
   ],
   "metadata": {}
  }
 ]
}