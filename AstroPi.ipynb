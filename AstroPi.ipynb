{
 "metadata": {
  "name": "AstroPi"
 },
 "nbformat": 3,
 "nbformat_minor": 0,
 "worksheets": [
  {
   "cells": [
    {
     "cell_type": "heading",
     "level": 1,
     "metadata": {},
     "source": [
      "My Astro Pi programs"
     ]
    },
    {
     "cell_type": "markdown",
     "metadata": {},
     "source": [
      "Uncomment the comments after %%bash magic to execute"
     ]
    },
    {
     "cell_type": "heading",
     "level": 2,
     "metadata": {},
     "source": [
      "Install Ipython in raspbian wheezy"
     ]
    },
    {
     "cell_type": "code",
     "collapsed": false,
     "input": [
      "%%bash\n",
      "#sudo aptitude install ipython-notebook"
     ],
     "language": "python",
     "metadata": {},
     "outputs": [],
     "prompt_number": 3
    },
    {
     "cell_type": "markdown",
     "metadata": {},
     "source": [
      "If accidentally the raspberry pi get unpluged and a kernel panic appears, don't panic!. Load the SD card into a Linux machine, umount all the partions, and execute:\n",
      "\n",
      "`# fsck -y /dev/mmcblk0p1`\n",
      "\n",
      "`# fsck -y /dev/mmcblk0p2`"
     ]
    },
    {
     "cell_type": "heading",
     "level": 2,
     "metadata": {},
     "source": [
      "Install Astro Pi"
     ]
    },
    {
     "cell_type": "markdown",
     "metadata": {},
     "source": [
      "See https://www.raspberrypi.org/learning/astro-pi-guide for further info. WARNING: take a long time...\n",
      "\n",
      "Exec the following command from the console:\n",
      "\n",
      "`wget -O - http://www.raspberrypi.org/files/astro-pi/astro-pi-install.sh --no-check-certificate | bash`"
     ]
    },
    {
     "cell_type": "heading",
     "level": 1,
     "metadata": {},
     "source": [
      "Program to write message"
     ]
    },
    {
     "cell_type": "code",
     "collapsed": false,
     "input": [
      "from astro_pi import AstroPi\n",
      "ap = AstroPi()\n",
      "ap.show_message(\"Hello my name is Tim Peake\", text_colour=(255, 255, 0), back_colour=(0, 0, 255))\n",
      "ap.clear()"
     ],
     "language": "python",
     "metadata": {},
     "outputs": [],
     "prompt_number": 11
    },
    {
     "cell_type": "markdown",
     "metadata": {},
     "source": [
      "Repeat the message 3 times"
     ]
    },
    {
     "cell_type": "code",
     "collapsed": false,
     "input": [
      "from astro_pi import AstroPi\n",
      "ap = AstroPi()\n",
      "for i in range(3):\n",
      "    ap.show_message(\"38\", text_colour=(255, 255, 0), back_colour=(0, 0, 255))"
     ],
     "language": "python",
     "metadata": {},
     "outputs": [],
     "prompt_number": 7
    },
    {
     "cell_type": "heading",
     "level": 2,
     "metadata": {},
     "source": [
      "temperature"
     ]
    },
    {
     "cell_type": "code",
     "collapsed": false,
     "input": [
      "%%bash\n",
      "cat << EOF > temp.py\n",
      "from astro_pi import AstroPi\n",
      "ap = AstroPi()\n",
      "temp = ap.get_temperature()\n",
      "print(round(temp,1))\n",
      "EOF"
     ],
     "language": "python",
     "metadata": {},
     "outputs": [],
     "prompt_number": 17
    },
    {
     "cell_type": "code",
     "collapsed": false,
     "input": [
      "%%bash\n",
      "sudo python temp.py"
     ],
     "language": "python",
     "metadata": {},
     "outputs": [
      {
       "output_type": "stream",
       "stream": "stdout",
       "text": [
        "30.9\n"
       ]
      }
     ],
     "prompt_number": 18
    },
    {
     "cell_type": "heading",
     "level": 3,
     "metadata": {},
     "source": [
      "Write tem"
     ]
    },
    {
     "cell_type": "code",
     "collapsed": false,
     "input": [
      "%%bash\n",
      "#git config --global user.email \"restrepo.simon@gmail.com\"\n",
      "#git config --global user.name \"Simon Restrepo\"\n",
      "#git add AstroPi.ipynb\n",
      "git commit -a -m \"My changes\"\n",
      "git push origin master"
     ],
     "language": "python",
     "metadata": {},
     "outputs": [
      {
       "output_type": "stream",
       "stream": "stdout",
       "text": [
        "[master d456c95] My changes\n",
        " 1 file changed, 24 insertions(+), 4 deletions(-)\n"
       ]
      },
      {
       "output_type": "stream",
       "stream": "stderr",
       "text": [
        "Warning: Permanently added the RSA host key for IP address '192.30.252.131' to the list of known hosts.\r\n",
        "To git@github.com:simonres/astropi.git\n",
        "   9343e9e..d456c95  master -> master\n"
       ]
      }
     ],
     "prompt_number": 1
    },
    {
     "cell_type": "code",
     "collapsed": false,
     "input": [],
     "language": "python",
     "metadata": {},
     "outputs": []
    }
   ],
   "metadata": {}
  }
 ]
}