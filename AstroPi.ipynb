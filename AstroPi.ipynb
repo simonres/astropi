{
 "metadata": {
  "name": "AstroPi"
 },
 "nbformat": 3,
 "nbformat_minor": 0,
 "worksheets": [
  {
   "cells": [
    {
     "cell_type": "heading",
     "level": 1,
     "metadata": {},
     "source": [
      "My Astro Pi programs"
     ]
    },
    {
     "cell_type": "markdown",
     "metadata": {},
     "source": [
      "Program to write message"
     ]
    },
    {
     "cell_type": "code",
     "collapsed": false,
     "input": [
      "from astro_pi import AstroPi\n",
      "ap = AstroPi()\n",
      "ap.show_message(\"Hello my name is Tim Peake\", text_colour=(255, 255, 0), back_colour=(0, 0, 255))"
     ],
     "language": "python",
     "metadata": {},
     "outputs": [],
     "prompt_number": 5
    },
    {
     "cell_type": "code",
     "collapsed": false,
     "input": [
      "%%bash\n",
      "#git config --global user.email \"restrepo.simon@gmail.com\"\n",
      "#git config --global user.name \"Simon Restrepo\"\n",
      "#git add AstroPi.ipynb\n",
      "git commit -a -m \"My changes\"\n",
      "git push origin master"
     ],
     "language": "python",
     "metadata": {},
     "outputs": [
      {
       "output_type": "stream",
       "stream": "stdout",
       "text": [
        "[master 0b0a48c] My changes\n",
        " 1 file changed, 32 insertions(+), 2 deletions(-)\n"
       ]
      },
      {
       "output_type": "stream",
       "stream": "stderr",
       "text": [
        "To git@github.com:simonres/astropi.git\n",
        "   3b00cb9..0b0a48c  master -> master\n"
       ]
      }
     ],
     "prompt_number": 7
    },
    {
     "cell_type": "code",
     "collapsed": false,
     "input": [],
     "language": "python",
     "metadata": {},
     "outputs": []
    }
   ],
   "metadata": {}
  }
 ]
}