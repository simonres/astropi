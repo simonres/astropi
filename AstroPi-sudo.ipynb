{
 "metadata": {
  "name": "AstroPi-sudo"
 },
 "nbformat": 3,
 "nbformat_minor": 0,
 "worksheets": [
  {
   "cells": [
    {
     "cell_type": "heading",
     "level": 1,
     "metadata": {},
     "source": [
      "My Astro Pi programs as sudo"
     ]
    },
    {
     "cell_type": "markdown",
     "metadata": {},
     "source": [
      "Some functionality of Astro Pi is only avalaible as supersuser. This notebook must be run from root account (at your own risk!)\n",
      "\n",
      "From the console set the root password:\n",
      "\n",
      "`$ sudo passwd`\n",
      "\n",
      "`$ sudo aptitude install sux`\n",
      "\n",
      "and login as superuser with enabled graphics:\n",
      "\n",
      "`$ sux`\n",
      "\n",
      "Link and execute the script\n",
      "\n",
      "`# ln -s /home/pi/bin/notebook.sh /usr/local/bin`\n",
      "\n",
      "`# ipython.sh`"
     ]
    },
    {
     "cell_type": "markdown",
     "metadata": {},
     "source": [
      "After this you can open this notebook from the browser of an external computer with the url: http://rapberry.pi.ip:8888"
     ]
    },
    {
     "cell_type": "heading",
     "level": 1,
     "metadata": {},
     "source": [
      "Temperature"
     ]
    },
    {
     "cell_type": "markdown",
     "metadata": {},
     "source": [
      "WARNING: Your running as superuser!"
     ]
    },
    {
     "cell_type": "code",
     "collapsed": false,
     "input": [
      "from astro_pi import AstroPi\n",
      "ap = AstroPi()\n",
      "temp = ap.get_temperature()\n",
      "print(round(temp,1))"
     ],
     "language": "python",
     "metadata": {},
     "outputs": [
      {
       "output_type": "stream",
       "stream": "stdout",
       "text": [
        "31.0\n"
       ]
      }
     ],
     "prompt_number": 4
    },
    {
     "cell_type": "heading",
     "level": 3,
     "metadata": {},
     "source": [
      "Print temperature in Astro Pi screen"
     ]
    },
    {
     "cell_type": "code",
     "collapsed": false,
     "input": [
      "from astro_pi import AstroPi\n",
      "ap = AstroPi()\n",
      "for i in range(100):\n",
      "    temp = ap.get_temperature()\n",
      "    temp=round(temp,1)\n",
      "    ap.show_message(\"%g\" %temp,  text_colour=(255, 255, 0), back_colour=(0, 0, 255))\n",
      "    \n",
      "ap.clear()    "
     ],
     "language": "python",
     "metadata": {},
     "outputs": [],
     "prompt_number": 3
    },
    {
     "cell_type": "code",
     "collapsed": false,
     "input": [],
     "language": "python",
     "metadata": {},
     "outputs": []
    },
    {
     "cell_type": "heading",
     "level": 3,
     "metadata": {},
     "source": [
      "Write temperature in the LED screen"
     ]
    },
    {
     "cell_type": "markdown",
     "metadata": {},
     "source": [
      "Commit the changes from the terminal in the pi account with the command\n",
      "\n",
      "`$ git commit -am 'your message to describe the changes'`"
     ]
    }
   ],
   "metadata": {}
  }
 ]
}